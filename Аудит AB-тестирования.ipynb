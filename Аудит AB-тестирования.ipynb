{
 "cells": [
  {
   "cell_type": "markdown",
   "metadata": {},
   "source": [
    "## Аудит A/B-тестирования: Гарантия Стратегической Точности\n",
    "\n",
    "**Аналитическая задача** — Проверка корректности проведенного AB-теста\n",
    "\n",
    "### Задачи проекта:\n",
    "- Оценка валидности проведенного A/B-теста.\n",
    "- Выявление возможности использования результатов теста для создания стратегии.\n",
    "\n",
    "### Описание проекта:\n",
    "Имеется мобильное приложение для магазина по продаже продуктов питания. \n",
    "\n",
    "Выдвинута гипотеза о том, что смена шрифтов улучшит качество обслуживания по количеству клиентов, совершающих каждое событие. Для проверки этой гипотезы провели A/B-тест.   \n",
    "\n",
    "Пользователей разбили на 3 группы: 246 -- контрольная группа со старыми шрифтами; 247, 248 -- экспериментальная с новыми шрифтами.\n",
    "\n",
    "### Описание данных:\n",
    "\n",
    "|Признак|Комментарий|\n",
    "|--:|:--|\n",
    "|`EventName`|название события|\n",
    "|`DeviceIDHash`|уникальный идентификатор пользователя|\n",
    "|`EventTimestamp`|время события|\n",
    "|`ExpId`|номер группы|\n",
    "\n",
    "### План по выполнению проекта:\n",
    "\n",
    "Шаг 1. Загрузка данных\n",
    "- Знакомство с данными;\n",
    "- Корректность a/b-теста.\n",
    "\n",
    "Шаг 2. Подготовка данные\n",
    "- Корректировка заголовков;\n",
    "- Типы данных;\n",
    "- Аномалии пропуски.\n",
    "\n",
    "Шаг 3. EDA\n",
    "- Cколько всего событий?\n",
    "- Сколько всего пользователей в логе?\n",
    "- Сколько в среднем событий приходится на пользователя?\n",
    "- Период теста: максимальная и минимальная даты; гистограмма по дате и количеству событий.\n",
    "\n",
    "Шаг 4. Анализ воронки событий\n",
    "- Распределение событий: какие события и в каком количестве.\n",
    "- Сколько пользователей совершали каждое из этих событий?\n",
    "- Строим воронку событий: какая доля пользователей проходит на следующий шаг воронки. На каком шаге теряется больше всего пользователей?\n",
    "Какая доля пользователей доходит от первого события до оплаты?\n",
    "\n",
    "Шаг 5. Анализ результатов эксперимента\n",
    "- Сколько пользователей в каждой группе?\n",
    "- Считаем долю пользователей, совершивших каждое из событий.\n",
    "- Проверяем гипотезу о наличие значимых отличий по результатам теста.\n",
    "\n",
    "С помощью Yandex DataLens создаем дашборд, отвечащий на следующие вопросы:\n",
    "- сколько уникальных клиентов в группах 247 и 248;\n",
    "- сколько уникальных клиентов совершили события по каждой группе;\n",
    "- по каждой группе строим распределение количества событий по времени."
   ]
  },
  {
   "cell_type": "markdown",
   "metadata": {},
   "source": [
    "Шаг 1. Загрузка данных\n",
    "- Знакомство с данными;\n",
    "- Корректность a/b-теста."
   ]
  },
  {
   "cell_type": "code",
   "execution_count": 1,
   "metadata": {},
   "outputs": [],
   "source": [
    "# подключение библиотек\n",
    "\n",
    "import pandas as pd\n",
    "import numpy as np\n",
    "\n",
    "import matplotlib.pyplot as plt\n",
    "import seaborn as sns\n",
    "import datetime as dt\n",
    "\n",
    "import tenacity\n",
    "import plotly\n",
    "from plotly.files import PLOTLY_DIR, ensure_writable_plotly_dir"
   ]
  },
  {
   "cell_type": "code",
   "execution_count": 2,
   "metadata": {
    "colab": {
     "base_uri": "https://localhost:8080/",
     "height": 423
    },
    "id": "0SEXV7lf3iwl",
    "outputId": "1482265f-be61-410f-ddd9-61479ed16235"
   },
   "outputs": [
    {
     "data": {
      "text/html": [
       "<div>\n",
       "<style scoped>\n",
       "    .dataframe tbody tr th:only-of-type {\n",
       "        vertical-align: middle;\n",
       "    }\n",
       "\n",
       "    .dataframe tbody tr th {\n",
       "        vertical-align: top;\n",
       "    }\n",
       "\n",
       "    .dataframe thead th {\n",
       "        text-align: right;\n",
       "    }\n",
       "</style>\n",
       "<table border=\"1\" class=\"dataframe\">\n",
       "  <thead>\n",
       "    <tr style=\"text-align: right;\">\n",
       "      <th></th>\n",
       "      <th>EventName</th>\n",
       "      <th>DeviceIDHash</th>\n",
       "      <th>EventTimestamp</th>\n",
       "      <th>ExpId</th>\n",
       "    </tr>\n",
       "  </thead>\n",
       "  <tbody>\n",
       "    <tr>\n",
       "      <th>0</th>\n",
       "      <td>MainScreenAppear</td>\n",
       "      <td>4575588528974610257</td>\n",
       "      <td>1564029816</td>\n",
       "      <td>246</td>\n",
       "    </tr>\n",
       "    <tr>\n",
       "      <th>1</th>\n",
       "      <td>MainScreenAppear</td>\n",
       "      <td>7416695313311560658</td>\n",
       "      <td>1564053102</td>\n",
       "      <td>246</td>\n",
       "    </tr>\n",
       "    <tr>\n",
       "      <th>2</th>\n",
       "      <td>PaymentScreenSuccessful</td>\n",
       "      <td>3518123091307005509</td>\n",
       "      <td>1564054127</td>\n",
       "      <td>248</td>\n",
       "    </tr>\n",
       "    <tr>\n",
       "      <th>3</th>\n",
       "      <td>CartScreenAppear</td>\n",
       "      <td>3518123091307005509</td>\n",
       "      <td>1564054127</td>\n",
       "      <td>248</td>\n",
       "    </tr>\n",
       "    <tr>\n",
       "      <th>4</th>\n",
       "      <td>PaymentScreenSuccessful</td>\n",
       "      <td>6217807653094995999</td>\n",
       "      <td>1564055322</td>\n",
       "      <td>248</td>\n",
       "    </tr>\n",
       "    <tr>\n",
       "      <th>...</th>\n",
       "      <td>...</td>\n",
       "      <td>...</td>\n",
       "      <td>...</td>\n",
       "      <td>...</td>\n",
       "    </tr>\n",
       "    <tr>\n",
       "      <th>244121</th>\n",
       "      <td>MainScreenAppear</td>\n",
       "      <td>4599628364049201812</td>\n",
       "      <td>1565212345</td>\n",
       "      <td>247</td>\n",
       "    </tr>\n",
       "    <tr>\n",
       "      <th>244122</th>\n",
       "      <td>MainScreenAppear</td>\n",
       "      <td>5849806612437486590</td>\n",
       "      <td>1565212439</td>\n",
       "      <td>246</td>\n",
       "    </tr>\n",
       "    <tr>\n",
       "      <th>244123</th>\n",
       "      <td>MainScreenAppear</td>\n",
       "      <td>5746969938801999050</td>\n",
       "      <td>1565212483</td>\n",
       "      <td>246</td>\n",
       "    </tr>\n",
       "    <tr>\n",
       "      <th>244124</th>\n",
       "      <td>MainScreenAppear</td>\n",
       "      <td>5746969938801999050</td>\n",
       "      <td>1565212498</td>\n",
       "      <td>246</td>\n",
       "    </tr>\n",
       "    <tr>\n",
       "      <th>244125</th>\n",
       "      <td>OffersScreenAppear</td>\n",
       "      <td>5746969938801999050</td>\n",
       "      <td>1565212517</td>\n",
       "      <td>246</td>\n",
       "    </tr>\n",
       "  </tbody>\n",
       "</table>\n",
       "<p>244126 rows × 4 columns</p>\n",
       "</div>"
      ],
      "text/plain": [
       "                      EventName         DeviceIDHash  EventTimestamp  ExpId\n",
       "0              MainScreenAppear  4575588528974610257      1564029816    246\n",
       "1              MainScreenAppear  7416695313311560658      1564053102    246\n",
       "2       PaymentScreenSuccessful  3518123091307005509      1564054127    248\n",
       "3              CartScreenAppear  3518123091307005509      1564054127    248\n",
       "4       PaymentScreenSuccessful  6217807653094995999      1564055322    248\n",
       "...                         ...                  ...             ...    ...\n",
       "244121         MainScreenAppear  4599628364049201812      1565212345    247\n",
       "244122         MainScreenAppear  5849806612437486590      1565212439    246\n",
       "244123         MainScreenAppear  5746969938801999050      1565212483    246\n",
       "244124         MainScreenAppear  5746969938801999050      1565212498    246\n",
       "244125       OffersScreenAppear  5746969938801999050      1565212517    246\n",
       "\n",
       "[244126 rows x 4 columns]"
      ]
     },
     "execution_count": 2,
     "metadata": {},
     "output_type": "execute_result"
    }
   ],
   "source": [
    "# загрузка данных\n",
    "df = pd.read_csv('ab_testing.csv',\n",
    "                 sep='\\t')\n",
    "df"
   ]
  },
  {
   "cell_type": "code",
   "execution_count": 3,
   "metadata": {
    "colab": {
     "base_uri": "https://localhost:8080/"
    },
    "id": "4_ua1DDbispp",
    "outputId": "0c619858-8802-42f5-ec85-46709cb4de93"
   },
   "outputs": [
    {
     "name": "stdout",
     "output_type": "stream",
     "text": [
      "<class 'pandas.core.frame.DataFrame'>\n",
      "RangeIndex: 244126 entries, 0 to 244125\n",
      "Data columns (total 4 columns):\n",
      " #   Column          Non-Null Count   Dtype \n",
      "---  ------          --------------   ----- \n",
      " 0   EventName       244126 non-null  object\n",
      " 1   DeviceIDHash    244126 non-null  int64 \n",
      " 2   EventTimestamp  244126 non-null  int64 \n",
      " 3   ExpId           244126 non-null  int64 \n",
      "dtypes: int64(3), object(1)\n",
      "memory usage: 7.5+ MB\n"
     ]
    }
   ],
   "source": [
    "# информация о наборе данных\n",
    "\n",
    "df.info()"
   ]
  },
  {
   "cell_type": "code",
   "execution_count": 4,
   "metadata": {
    "colab": {
     "base_uri": "https://localhost:8080/",
     "height": 209
    },
    "id": "8kUy7fezlULw",
    "outputId": "b216f44e-8fb0-4219-94b9-eb91278d53fe"
   },
   "outputs": [
    {
     "data": {
      "text/plain": [
       "ExpId\n",
       "246    2489\n",
       "247    2520\n",
       "248    2542\n",
       "Name: DeviceIDHash, dtype: int64"
      ]
     },
     "execution_count": 4,
     "metadata": {},
     "output_type": "execute_result"
    }
   ],
   "source": [
    "df.groupby('ExpId').DeviceIDHash.nunique()"
   ]
  },
  {
   "cell_type": "markdown",
   "metadata": {},
   "source": [
    "##### Проверяем корректность проведенного теста"
   ]
  },
  {
   "cell_type": "code",
   "execution_count": 5,
   "metadata": {
    "colab": {
     "base_uri": "https://localhost:8080/",
     "height": 175
    },
    "id": "ABxfrb_gjnxf",
    "outputId": "886597e7-dfba-42e5-c748-977b8ae43ce5"
   },
   "outputs": [
    {
     "data": {
      "text/plain": [
       "set()"
      ]
     },
     "execution_count": 5,
     "metadata": {},
     "output_type": "execute_result"
    }
   ],
   "source": [
    "# - объемы выборок по группам примерно совпадают -- количество уникальных субъектов по каждой группе, участвующих в эксперименте/тесте\n",
    "df.groupby('ExpId').DeviceIDHash.nunique()\n",
    "\n",
    "# - одни и те же клиенты не могут быть в разных группах\n",
    "set_user_id_246 = set(df[df.ExpId == 247].DeviceIDHash) # множество уникальных id группы 246\n",
    "set_user_id_248 = set(df[df.ExpId == 248].DeviceIDHash) # множество уникальных id группы 248\n",
    "\n",
    "# проверим наличие общих клиентов в группах\n",
    "set_user_id_246.intersection(set_user_id_248)"
   ]
  },
  {
   "cell_type": "markdown",
   "metadata": {},
   "source": [
    "##### <u>**Вывод:**</u>\n",
    "\n",
    "Проведенный a/b-тест является корректным."
   ]
  },
  {
   "cell_type": "markdown",
   "metadata": {},
   "source": [
    "Шаг 2. Подготовка данные\n",
    "- Корректировка заголовков;\n",
    "- Проверка типов данных;\n",
    "- Поиск аномалий и пропусков."
   ]
  },
  {
   "cell_type": "markdown",
   "metadata": {},
   "source": [
    "##### Предобработка"
   ]
  },
  {
   "cell_type": "code",
   "execution_count": 6,
   "metadata": {
    "id": "7WEeJEtsiskn"
   },
   "outputs": [],
   "source": [
    "# исправление заголовков\n",
    "\n",
    "df.columns = ['event_name', 'user_id', 'event_time', 'group_id']"
   ]
  },
  {
   "cell_type": "code",
   "execution_count": 7,
   "metadata": {
    "colab": {
     "base_uri": "https://localhost:8080/",
     "height": 112
    },
    "id": "SisqKBlJisiH",
    "outputId": "5b17cc69-a79f-4fb2-9126-bbef68c57102"
   },
   "outputs": [
    {
     "data": {
      "text/html": [
       "<div>\n",
       "<style scoped>\n",
       "    .dataframe tbody tr th:only-of-type {\n",
       "        vertical-align: middle;\n",
       "    }\n",
       "\n",
       "    .dataframe tbody tr th {\n",
       "        vertical-align: top;\n",
       "    }\n",
       "\n",
       "    .dataframe thead th {\n",
       "        text-align: right;\n",
       "    }\n",
       "</style>\n",
       "<table border=\"1\" class=\"dataframe\">\n",
       "  <thead>\n",
       "    <tr style=\"text-align: right;\">\n",
       "      <th></th>\n",
       "      <th>event_name</th>\n",
       "      <th>user_id</th>\n",
       "      <th>event_time</th>\n",
       "      <th>group_id</th>\n",
       "    </tr>\n",
       "  </thead>\n",
       "  <tbody>\n",
       "    <tr>\n",
       "      <th>0</th>\n",
       "      <td>MainScreenAppear</td>\n",
       "      <td>4575588528974610257</td>\n",
       "      <td>2019-07-25 04:43:36</td>\n",
       "      <td>246</td>\n",
       "    </tr>\n",
       "    <tr>\n",
       "      <th>1</th>\n",
       "      <td>MainScreenAppear</td>\n",
       "      <td>7416695313311560658</td>\n",
       "      <td>2019-07-25 11:11:42</td>\n",
       "      <td>246</td>\n",
       "    </tr>\n",
       "  </tbody>\n",
       "</table>\n",
       "</div>"
      ],
      "text/plain": [
       "         event_name              user_id          event_time  group_id\n",
       "0  MainScreenAppear  4575588528974610257 2019-07-25 04:43:36       246\n",
       "1  MainScreenAppear  7416695313311560658 2019-07-25 11:11:42       246"
      ]
     },
     "execution_count": 7,
     "metadata": {},
     "output_type": "execute_result"
    }
   ],
   "source": [
    "# корректировка типов данных\n",
    "\n",
    "df['event_time'] = pd.to_datetime(df['event_time'],\n",
    "                                  unit='s',\n",
    "                                  origin='unix')\n",
    "df.head(2)"
   ]
  },
  {
   "cell_type": "code",
   "execution_count": 8,
   "metadata": {
    "id": "DESI4qGxisf4"
   },
   "outputs": [
    {
     "data": {
      "text/plain": [
       "np.int64(0)"
      ]
     },
     "execution_count": 8,
     "metadata": {},
     "output_type": "execute_result"
    }
   ],
   "source": [
    "# поиск дублей;\n",
    "df.duplicated().sum()  # 413\n",
    "\n",
    "# нашлось 413 дублей - удалим их\n",
    "lst_user_id_dupl = list(df.loc[df.duplicated()].user_id.unique())\n",
    "df.drop_duplicates(keep='last', inplace=True)\n",
    "\n",
    "df.duplicated().sum()  "
   ]
  },
  {
   "cell_type": "code",
   "execution_count": 9,
   "metadata": {},
   "outputs": [
    {
     "name": "stdout",
     "output_type": "stream",
     "text": [
      "--- признак event_name ---\n"
     ]
    },
    {
     "data": {
      "text/plain": [
       "event_name\n",
       "MainScreenAppear           119101\n",
       "OffersScreenAppear          46808\n",
       "CartScreenAppear            42668\n",
       "PaymentScreenSuccessful     34118\n",
       "Tutorial                     1018\n",
       "Name: count, dtype: int64"
      ]
     },
     "metadata": {},
     "output_type": "display_data"
    },
    {
     "name": "stdout",
     "output_type": "stream",
     "text": [
      "\n",
      "--- признак group_id ---\n"
     ]
    },
    {
     "data": {
      "text/plain": [
       "group_id\n",
       "248    85582\n",
       "246    80181\n",
       "247    77950\n",
       "Name: count, dtype: int64"
      ]
     },
     "metadata": {},
     "output_type": "display_data"
    },
    {
     "name": "stdout",
     "output_type": "stream",
     "text": [
      "\n"
     ]
    }
   ],
   "source": [
    "# поиск аномальных значений\n",
    "# просмотр уникальных значений\n",
    "\n",
    "lst_col = ['event_name', 'group_id']\n",
    "\n",
    "def get_info_unique(lst:list):\n",
    "    for col in lst_col:\n",
    "        print(f'--- признак {col} ---')\n",
    "        display(df[col].value_counts(ascending=False))\n",
    "        print()\n",
    "\n",
    "get_info_unique(lst_col)"
   ]
  },
  {
   "cell_type": "code",
   "execution_count": 10,
   "metadata": {},
   "outputs": [],
   "source": [
    "# событие -- Tutorial -- не имеет отношения к событиям покупки и его можно удалить\n",
    "df.drop(index=df[df.event_name == 'Tutorial'].index,\n",
    "        inplace=True)"
   ]
  },
  {
   "cell_type": "code",
   "execution_count": 11,
   "metadata": {
    "id": "OnTfy19Disdh"
   },
   "outputs": [],
   "source": [
    "# найдем количество посещений на каждого клиента\n",
    "user_id_top_10 = df.groupby('user_id')\\\n",
    "                   .agg(count_visits = ('user_id', 'count'))\\\n",
    "                   .reset_index()\\\n",
    "                   .sort_values(by='count_visits',\n",
    "                                ascending=False)\\\n",
    "                   .head(10)\\\n",
    "                   .user_id\\\n",
    "                   .to_list()\n",
    "\n",
    "# проверим наличие клиентов из топ-10 по посещениям в списке с дублями\n",
    "\n",
    "def get_index(lst_user_id_dupl:list, user_id_top_10:list) -> list:\n",
    "    return [id for id in user_id_top_10 if id in lst_user_id_dupl]\n",
    "\n",
    "# клиенты из топ-10 с дублями\n",
    "get_index(lst_user_id_dupl, user_id_top_10)\n",
    "\n",
    "# удалим их\n",
    "index_del = df.loc[df.user_id.isin(get_index(lst_user_id_dupl, user_id_top_10))]\\\n",
    "              .index\n",
    "df.drop(index=index_del,\n",
    "        inplace=True)"
   ]
  },
  {
   "cell_type": "markdown",
   "metadata": {},
   "source": [
    "##### <u>**Результат:**</u>\n",
    "\n",
    "- Заголовки откорректированы\n",
    "- Типы данных приведены в порядок\n",
    "- Дкбли удалены\n",
    "- Аномалии проработаны"
   ]
  },
  {
   "cell_type": "markdown",
   "metadata": {
    "id": "6tzUyAnV65TD"
   },
   "source": [
    "Шаг 3. EDA\n",
    "- Cколько всего событий?\n",
    "- Сколько всего пользователей в логе?\n",
    "- Сколько в среднем событий приходится на пользователя?\n",
    "- Период теста: максимальная и минимальная даты; гистограмма по дате и количеству событий."
   ]
  },
  {
   "cell_type": "code",
   "execution_count": 12,
   "metadata": {
    "colab": {
     "base_uri": "https://localhost:8080/"
    },
    "id": "evLGJxZF64fj",
    "outputId": "842f36db-eba4-4f14-e731-1722687c3e80"
   },
   "outputs": [
    {
     "name": "stdout",
     "output_type": "stream",
     "text": [
      "\n",
      "Всего 4 события -- MainScreenAppear, PaymentScreenSuccessful, CartScreenAppear, OffersScreenAppear.\n",
      "Всего пользователей 7540.\n",
      "В среднем на пользователя приходится 30 событий.\n"
     ]
    }
   ],
   "source": [
    "print(f\"\"\"\n",
    "Всего {df.event_name.nunique()} события -- {', '.join(df.event_name.unique())}.\n",
    "Всего пользователей {df.user_id.nunique()}.\n",
    "В среднем на пользователя приходится {int(df.shape[0] / df.user_id.nunique())} событий.\"\"\")"
   ]
  },
  {
   "cell_type": "code",
   "execution_count": 13,
   "metadata": {
    "id": "Bn3T-Abm64iD"
   },
   "outputs": [
    {
     "data": {
      "text/html": [
       "<div>\n",
       "<style scoped>\n",
       "    .dataframe tbody tr th:only-of-type {\n",
       "        vertical-align: middle;\n",
       "    }\n",
       "\n",
       "    .dataframe tbody tr th {\n",
       "        vertical-align: top;\n",
       "    }\n",
       "\n",
       "    .dataframe thead th {\n",
       "        text-align: right;\n",
       "    }\n",
       "</style>\n",
       "<table border=\"1\" class=\"dataframe\">\n",
       "  <thead>\n",
       "    <tr style=\"text-align: right;\">\n",
       "      <th></th>\n",
       "      <th>event_name</th>\n",
       "      <th>user_id</th>\n",
       "      <th>event_time</th>\n",
       "      <th>group_id</th>\n",
       "      <th>event_date</th>\n",
       "    </tr>\n",
       "  </thead>\n",
       "  <tbody>\n",
       "    <tr>\n",
       "      <th>0</th>\n",
       "      <td>MainScreenAppear</td>\n",
       "      <td>4575588528974610257</td>\n",
       "      <td>2019-07-25 04:43:36</td>\n",
       "      <td>246</td>\n",
       "      <td>2019-07-25</td>\n",
       "    </tr>\n",
       "    <tr>\n",
       "      <th>1</th>\n",
       "      <td>MainScreenAppear</td>\n",
       "      <td>7416695313311560658</td>\n",
       "      <td>2019-07-25 11:11:42</td>\n",
       "      <td>246</td>\n",
       "      <td>2019-07-25</td>\n",
       "    </tr>\n",
       "  </tbody>\n",
       "</table>\n",
       "</div>"
      ],
      "text/plain": [
       "         event_name              user_id          event_time  group_id  \\\n",
       "0  MainScreenAppear  4575588528974610257 2019-07-25 04:43:36       246   \n",
       "1  MainScreenAppear  7416695313311560658 2019-07-25 11:11:42       246   \n",
       "\n",
       "   event_date  \n",
       "0  2019-07-25  \n",
       "1  2019-07-25  "
      ]
     },
     "execution_count": 13,
     "metadata": {},
     "output_type": "execute_result"
    }
   ],
   "source": [
    "# добавим признаки, связанные с датой\n",
    "\n",
    "df['event_date'] = df['event_time'].dt.date\n",
    "df.head(2)"
   ]
  },
  {
   "cell_type": "code",
   "execution_count": 14,
   "metadata": {
    "id": "vNjuBffh64mN"
   },
   "outputs": [
    {
     "name": "stdout",
     "output_type": "stream",
     "text": [
      "Дата начала теста -- 2019-07-25\n",
      "Дата окончания теста -- 2019-08-07\n"
     ]
    }
   ],
   "source": [
    "print(f\"\"\"Дата начала теста -- {df['event_date'].min()}\n",
    "Дата окончания теста -- {df['event_date'].max()}\"\"\")"
   ]
  },
  {
   "cell_type": "code",
   "execution_count": 15,
   "metadata": {
    "id": "5EYi3Uiu64or"
   },
   "outputs": [
    {
     "name": "stderr",
     "output_type": "stream",
     "text": [
      "C:\\Users\\Анюта\\AppData\\Local\\Temp\\ipykernel_18060\\2189089193.py:7: UserWarning: set_ticklabels() should only be used with a fixed number of ticks, i.e. after set_ticks() or using a FixedLocator.\n",
      "  ax.set_yticklabels(ax.get_yticklabels(), fontsize=8);\n"
     ]
    },
    {
     "data": {
      "image/png": "[encoded data removed]",
      "text/plain": [
       "<Figure size 600x300 with 1 Axes>"
      ]
     },
     "metadata": {},
     "output_type": "display_data"
    }
   ],
   "source": [
    "# Гистограмма по дате и количеству событий\n",
    "plt.figure(figsize=(6,3))\n",
    "ax = sns.countplot(data=df, y='event_date', color= 'yellow');\n",
    "ax.set_title(\"Распределение количества событий по дате\");\n",
    "ax.set_ylabel(\"Дата проведения теста\");\n",
    "ax.set_xlabel(\"Количество событий\");\n",
    "ax.set_yticklabels(ax.get_yticklabels(), fontsize=8);\n",
    "ax.bar_label(ax.containers[0], fontsize=8);"
   ]
  },
  {
   "cell_type": "markdown",
   "metadata": {},
   "source": [
    "Из диаграммы следует, что первую неделю тест фактически не проводился, посколько клиенты по неизвестной причине не совершали никаких событий.\n",
    "\n",
    "##### <u>**Вывод:**</u>\n",
    "\n",
    "Результаты, полученные в ходе теста, следует считать некорректными!"
   ]
  },
  {
   "cell_type": "code",
   "execution_count": 16,
   "metadata": {
    "id": "q7H4zYdv64rE"
   },
   "outputs": [
    {
     "data": {
      "text/html": [
       "<div>\n",
       "<style scoped>\n",
       "    .dataframe tbody tr th:only-of-type {\n",
       "        vertical-align: middle;\n",
       "    }\n",
       "\n",
       "    .dataframe tbody tr th {\n",
       "        vertical-align: top;\n",
       "    }\n",
       "\n",
       "    .dataframe thead th {\n",
       "        text-align: right;\n",
       "    }\n",
       "</style>\n",
       "<table border=\"1\" class=\"dataframe\">\n",
       "  <thead>\n",
       "    <tr style=\"text-align: right;\">\n",
       "      <th></th>\n",
       "      <th>event_name</th>\n",
       "      <th>user_id</th>\n",
       "      <th>event_time</th>\n",
       "      <th>group_id</th>\n",
       "      <th>event_date</th>\n",
       "    </tr>\n",
       "  </thead>\n",
       "  <tbody>\n",
       "    <tr>\n",
       "      <th>2829</th>\n",
       "      <td>MainScreenAppear</td>\n",
       "      <td>3737462046622621720</td>\n",
       "      <td>2019-08-01 00:08:00</td>\n",
       "      <td>246</td>\n",
       "      <td>2019-08-01</td>\n",
       "    </tr>\n",
       "    <tr>\n",
       "      <th>26786</th>\n",
       "      <td>OffersScreenAppear</td>\n",
       "      <td>1832951734389458979</td>\n",
       "      <td>2019-08-01 15:37:30</td>\n",
       "      <td>246</td>\n",
       "      <td>2019-08-01</td>\n",
       "    </tr>\n",
       "    <tr>\n",
       "      <th>26785</th>\n",
       "      <td>MainScreenAppear</td>\n",
       "      <td>455812380260872971</td>\n",
       "      <td>2019-08-01 15:37:30</td>\n",
       "      <td>247</td>\n",
       "      <td>2019-08-01</td>\n",
       "    </tr>\n",
       "    <tr>\n",
       "      <th>26784</th>\n",
       "      <td>CartScreenAppear</td>\n",
       "      <td>1009745980451513098</td>\n",
       "      <td>2019-08-01 15:37:28</td>\n",
       "      <td>248</td>\n",
       "      <td>2019-08-01</td>\n",
       "    </tr>\n",
       "    <tr>\n",
       "      <th>26783</th>\n",
       "      <td>MainScreenAppear</td>\n",
       "      <td>2477577206728983149</td>\n",
       "      <td>2019-08-01 15:37:25</td>\n",
       "      <td>246</td>\n",
       "      <td>2019-08-01</td>\n",
       "    </tr>\n",
       "    <tr>\n",
       "      <th>...</th>\n",
       "      <td>...</td>\n",
       "      <td>...</td>\n",
       "      <td>...</td>\n",
       "      <td>...</td>\n",
       "      <td>...</td>\n",
       "    </tr>\n",
       "    <tr>\n",
       "      <th>223490</th>\n",
       "      <td>MainScreenAppear</td>\n",
       "      <td>1072623712787612806</td>\n",
       "      <td>2019-08-07 10:18:06</td>\n",
       "      <td>247</td>\n",
       "      <td>2019-08-07</td>\n",
       "    </tr>\n",
       "    <tr>\n",
       "      <th>223489</th>\n",
       "      <td>MainScreenAppear</td>\n",
       "      <td>5488760014591002030</td>\n",
       "      <td>2019-08-07 10:18:05</td>\n",
       "      <td>246</td>\n",
       "      <td>2019-08-07</td>\n",
       "    </tr>\n",
       "    <tr>\n",
       "      <th>223488</th>\n",
       "      <td>OffersScreenAppear</td>\n",
       "      <td>4612600107457375865</td>\n",
       "      <td>2019-08-07 10:18:04</td>\n",
       "      <td>248</td>\n",
       "      <td>2019-08-07</td>\n",
       "    </tr>\n",
       "    <tr>\n",
       "      <th>223500</th>\n",
       "      <td>PaymentScreenSuccessful</td>\n",
       "      <td>1072623712787612806</td>\n",
       "      <td>2019-08-07 10:18:15</td>\n",
       "      <td>247</td>\n",
       "      <td>2019-08-07</td>\n",
       "    </tr>\n",
       "    <tr>\n",
       "      <th>244125</th>\n",
       "      <td>OffersScreenAppear</td>\n",
       "      <td>5746969938801999050</td>\n",
       "      <td>2019-08-07 21:15:17</td>\n",
       "      <td>246</td>\n",
       "      <td>2019-08-07</td>\n",
       "    </tr>\n",
       "  </tbody>\n",
       "</table>\n",
       "<p>229510 rows × 5 columns</p>\n",
       "</div>"
      ],
      "text/plain": [
       "                     event_name              user_id          event_time  \\\n",
       "2829           MainScreenAppear  3737462046622621720 2019-08-01 00:08:00   \n",
       "26786        OffersScreenAppear  1832951734389458979 2019-08-01 15:37:30   \n",
       "26785          MainScreenAppear   455812380260872971 2019-08-01 15:37:30   \n",
       "26784          CartScreenAppear  1009745980451513098 2019-08-01 15:37:28   \n",
       "26783          MainScreenAppear  2477577206728983149 2019-08-01 15:37:25   \n",
       "...                         ...                  ...                 ...   \n",
       "223490         MainScreenAppear  1072623712787612806 2019-08-07 10:18:06   \n",
       "223489         MainScreenAppear  5488760014591002030 2019-08-07 10:18:05   \n",
       "223488       OffersScreenAppear  4612600107457375865 2019-08-07 10:18:04   \n",
       "223500  PaymentScreenSuccessful  1072623712787612806 2019-08-07 10:18:15   \n",
       "244125       OffersScreenAppear  5746969938801999050 2019-08-07 21:15:17   \n",
       "\n",
       "        group_id  event_date  \n",
       "2829         246  2019-08-01  \n",
       "26786        246  2019-08-01  \n",
       "26785        247  2019-08-01  \n",
       "26784        248  2019-08-01  \n",
       "26783        246  2019-08-01  \n",
       "...          ...         ...  \n",
       "223490       247  2019-08-07  \n",
       "223489       246  2019-08-07  \n",
       "223488       248  2019-08-07  \n",
       "223500       247  2019-08-07  \n",
       "244125       246  2019-08-07  \n",
       "\n",
       "[229510 rows x 5 columns]"
      ]
     },
     "execution_count": 16,
     "metadata": {},
     "output_type": "execute_result"
    }
   ],
   "source": [
    "# Доделаем оставшиеся пункты проекта, предварительно удалив данные за первую неделю\n",
    "df = df.loc[~(df.event_date <= dt.date(2019, 7, 31))].copy()\n",
    "\n",
    "# проверка выполненной фильтрации\n",
    "df.sort_values(by='event_date')"
   ]
  },
  {
   "cell_type": "markdown",
   "metadata": {},
   "source": [
    "Шаг 4. Анализ воронки событий\n",
    "- Распределение событий: какие события и в каком количестве.\n",
    "- Сколько пользователей совершали каждое из этих событий?\n",
    "- Строим воронку событий: какая доля пользователей проходит на следующий шаг воронки. На каком шаге теряется больше всего пользователей?   \n",
    "Какая доля пользователей доходит от первого события до оплаты?"
   ]
  },
  {
   "cell_type": "code",
   "execution_count": 17,
   "metadata": {},
   "outputs": [
    {
     "data": {
      "text/plain": [
       "2"
      ]
     },
     "execution_count": 17,
     "metadata": {},
     "output_type": "execute_result"
    }
   ],
   "source": [
    "# исключим клиентов 246 группы\n",
    "\n",
    "index_orders_del = df[df.group_id == 246].index\n",
    "df.drop(index=index_orders_del, inplace=True)\n",
    "df.group_id.nunique()"
   ]
  },
  {
   "cell_type": "code",
   "execution_count": 18,
   "metadata": {},
   "outputs": [
    {
     "data": {
      "text/html": [
       "<div>\n",
       "<style scoped>\n",
       "    .dataframe tbody tr th:only-of-type {\n",
       "        vertical-align: middle;\n",
       "    }\n",
       "\n",
       "    .dataframe tbody tr th {\n",
       "        vertical-align: top;\n",
       "    }\n",
       "\n",
       "    .dataframe thead th {\n",
       "        text-align: right;\n",
       "    }\n",
       "</style>\n",
       "<table border=\"1\" class=\"dataframe\">\n",
       "  <thead>\n",
       "    <tr style=\"text-align: right;\">\n",
       "      <th></th>\n",
       "      <th>event_name</th>\n",
       "      <th>event_count</th>\n",
       "      <th>event_user_id_unique</th>\n",
       "    </tr>\n",
       "  </thead>\n",
       "  <tbody>\n",
       "    <tr>\n",
       "      <th>1</th>\n",
       "      <td>MainScreenAppear</td>\n",
       "      <td>79393</td>\n",
       "      <td>4965</td>\n",
       "    </tr>\n",
       "    <tr>\n",
       "      <th>2</th>\n",
       "      <td>OffersScreenAppear</td>\n",
       "      <td>30799</td>\n",
       "      <td>3047</td>\n",
       "    </tr>\n",
       "    <tr>\n",
       "      <th>0</th>\n",
       "      <td>CartScreenAppear</td>\n",
       "      <td>24722</td>\n",
       "      <td>2464</td>\n",
       "    </tr>\n",
       "    <tr>\n",
       "      <th>3</th>\n",
       "      <td>PaymentScreenSuccessful</td>\n",
       "      <td>19248</td>\n",
       "      <td>2335</td>\n",
       "    </tr>\n",
       "  </tbody>\n",
       "</table>\n",
       "</div>"
      ],
      "text/plain": [
       "                event_name  event_count  event_user_id_unique\n",
       "1         MainScreenAppear        79393                  4965\n",
       "2       OffersScreenAppear        30799                  3047\n",
       "0         CartScreenAppear        24722                  2464\n",
       "3  PaymentScreenSuccessful        19248                  2335"
      ]
     },
     "execution_count": 18,
     "metadata": {},
     "output_type": "execute_result"
    }
   ],
   "source": [
    "# Распределение событий: какие события и в каком количестве.\n",
    "# Сколько пользователей совершали каждое из этих событий?\n",
    "\n",
    "df_funnel = df.groupby('event_name')\\\n",
    "              .agg(event_count=('user_id', 'count'),\n",
    "                   event_user_id_unique=('user_id', 'nunique'))\\\n",
    "              .reset_index()\\\n",
    "              .sort_values(by='event_count', ascending=False)\n",
    "df_funnel"
   ]
  },
  {
   "cell_type": "code",
   "execution_count": 19,
   "metadata": {},
   "outputs": [
    {
     "data": {
      "application/vnd.plotly.v1+json": {
       "config": {
        "plotlyServerURL": "https://plot.ly"
       },
       "data": [
        {
         "connector": {
          "line": {
           "color": "royalblue",
           "dash": "dot",
           "width": 3
          }
         },
         "marker": {
          "color": [
           "deepskyblue",
           "lightsalmon",
           "tan",
           "teal",
           "silver"
          ],
          "line": {
           "color": [
            "wheat",
            "wheat",
            "blue",
            "wheat",
            "wheat"
           ],
           "width": [
            4,
            2,
            2,
            3,
            1,
            1
           ]
          }
         },
         "opacity": 0.65,
         "textinfo": "value+percent initial",
         "textposition": "inside",
         "type": "funnel",
         "x": [
          4965,
          3047,
          2464,
          2335
         ],
         "y": [
          "MainScreenAppear",
          "OffersScreenAppear",
          "CartScreenAppear",
          "PaymentScreenSuccessful"
         ]
        }
       ],
       "layout": {
        "template": {
         "data": {
          "bar": [
           {
            "error_x": {
             "color": "#2a3f5f"
            },
            "error_y": {
             "color": "#2a3f5f"
            },
            "marker": {
             "line": {
              "color": "#E5ECF6",
              "width": 0.5
             },
             "pattern": {
              "fillmode": "overlay",
              "size": 10,
              "solidity": 0.2
             }
            },
            "type": "bar"
           }
          ],
          "barpolar": [
           {
            "marker": {
             "line": {
              "color": "#E5ECF6",
              "width": 0.5
             },
             "pattern": {
              "fillmode": "overlay",
              "size": 10,
              "solidity": 0.2
             }
            },
            "type": "barpolar"
           }
          ],
          "carpet": [
           {
            "aaxis": {
             "endlinecolor": "#2a3f5f",
             "gridcolor": "white",
             "linecolor": "white",
             "minorgridcolor": "white",
             "startlinecolor": "#2a3f5f"
            },
            "baxis": {
             "endlinecolor": "#2a3f5f",
             "gridcolor": "white",
             "linecolor": "white",
             "minorgridcolor": "white",
             "startlinecolor": "#2a3f5f"
            },
            "type": "carpet"
           }
          ],
          "choropleth": [
           {
            "colorbar": {
             "outlinewidth": 0,
             "ticks": ""
            },
            "type": "choropleth"
           }
          ],
          "contour": [
           {
            "colorbar": {
             "outlinewidth": 0,
             "ticks": ""
            },
            "colorscale": [
             [
              0,
              "#0d0887"
             ],
             [
              0.1111111111111111,
              "#46039f"
             ],
             [
              0.2222222222222222,
              "#7201a8"
             ],
             [
              0.3333333333333333,
              "#9c179e"
             ],
             [
              0.4444444444444444,
              "#bd3786"
             ],
             [
              0.5555555555555556,
              "#d8576b"
             ],
             [
              0.6666666666666666,
              "#ed7953"
             ],
             [
              0.7777777777777778,
              "#fb9f3a"
             ],
             [
              0.8888888888888888,
              "#fdca26"
             ],
             [
              1,
              "#f0f921"
             ]
            ],
            "type": "contour"
           }
          ],
          "contourcarpet": [
           {
            "colorbar": {
             "outlinewidth": 0,
             "ticks": ""
            },
            "type": "contourcarpet"
           }
          ],
          "heatmap": [
           {
            "colorbar": {
             "outlinewidth": 0,
             "ticks": ""
            },
            "colorscale": [
             [
              0,
              "#0d0887"
             ],
             [
              0.1111111111111111,
              "#46039f"
             ],
             [
              0.2222222222222222,
              "#7201a8"
             ],
             [
              0.3333333333333333,
              "#9c179e"
             ],
             [
              0.4444444444444444,
              "#bd3786"
             ],
             [
              0.5555555555555556,
              "#d8576b"
             ],
             [
              0.6666666666666666,
              "#ed7953"
             ],
             [
              0.7777777777777778,
              "#fb9f3a"
             ],
             [
              0.8888888888888888,
              "#fdca26"
             ],
             [
              1,
              "#f0f921"
             ]
            ],
            "type": "heatmap"
           }
          ],
          "heatmapgl": [
           {
            "colorbar": {
             "outlinewidth": 0,
             "ticks": ""
            },
            "colorscale": [
             [
              0,
              "#0d0887"
             ],
             [
              0.1111111111111111,
              "#46039f"
             ],
             [
              0.2222222222222222,
              "#7201a8"
             ],
             [
              0.3333333333333333,
              "#9c179e"
             ],
             [
              0.4444444444444444,
              "#bd3786"
             ],
             [
              0.5555555555555556,
              "#d8576b"
             ],
             [
              0.6666666666666666,
              "#ed7953"
             ],
             [
              0.7777777777777778,
              "#fb9f3a"
             ],
             [
              0.8888888888888888,
              "#fdca26"
             ],
             [
              1,
              "#f0f921"
             ]
            ],
            "type": "heatmapgl"
           }
          ],
          "histogram": [
           {
            "marker": {
             "pattern": {
              "fillmode": "overlay",
              "size": 10,
              "solidity": 0.2
             }
            },
            "type": "histogram"
           }
          ],
          "histogram2d": [
           {
            "colorbar": {
             "outlinewidth": 0,
             "ticks": ""
            },
            "colorscale": [
             [
              0,
              "#0d0887"
             ],
             [
              0.1111111111111111,
              "#46039f"
             ],
             [
              0.2222222222222222,
              "#7201a8"
             ],
             [
              0.3333333333333333,
              "#9c179e"
             ],
             [
              0.4444444444444444,
              "#bd3786"
             ],
             [
              0.5555555555555556,
              "#d8576b"
             ],
             [
              0.6666666666666666,
              "#ed7953"
             ],
             [
              0.7777777777777778,
              "#fb9f3a"
             ],
             [
              0.8888888888888888,
              "#fdca26"
             ],
             [
              1,
              "#f0f921"
             ]
            ],
            "type": "histogram2d"
           }
          ],
          "histogram2dcontour": [
           {
            "colorbar": {
             "outlinewidth": 0,
             "ticks": ""
            },
            "colorscale": [
             [
              0,
              "#0d0887"
             ],
             [
              0.1111111111111111,
              "#46039f"
             ],
             [
              0.2222222222222222,
              "#7201a8"
             ],
             [
              0.3333333333333333,
              "#9c179e"
             ],
             [
              0.4444444444444444,
              "#bd3786"
             ],
             [
              0.5555555555555556,
              "#d8576b"
             ],
             [
              0.6666666666666666,
              "#ed7953"
             ],
             [
              0.7777777777777778,
              "#fb9f3a"
             ],
             [
              0.8888888888888888,
              "#fdca26"
             ],
             [
              1,
              "#f0f921"
             ]
            ],
            "type": "histogram2dcontour"
           }
          ],
          "mesh3d": [
           {
            "colorbar": {
             "outlinewidth": 0,
             "ticks": ""
            },
            "type": "mesh3d"
           }
          ],
          "parcoords": [
           {
            "line": {
             "colorbar": {
              "outlinewidth": 0,
              "ticks": ""
             }
            },
            "type": "parcoords"
           }
          ],
          "pie": [
           {
            "automargin": true,
            "type": "pie"
           }
          ],
          "scatter": [
           {
            "fillpattern": {
             "fillmode": "overlay",
             "size": 10,
             "solidity": 0.2
            },
            "type": "scatter"
           }
          ],
          "scatter3d": [
           {
            "line": {
             "colorbar": {
              "outlinewidth": 0,
              "ticks": ""
             }
            },
            "marker": {
             "colorbar": {
              "outlinewidth": 0,
              "ticks": ""
             }
            },
            "type": "scatter3d"
           }
          ],
          "scattercarpet": [
           {
            "marker": {
             "colorbar": {
              "outlinewidth": 0,
              "ticks": ""
             }
            },
            "type": "scattercarpet"
           }
          ],
          "scattergeo": [
           {
            "marker": {
             "colorbar": {
              "outlinewidth": 0,
              "ticks": ""
             }
            },
            "type": "scattergeo"
           }
          ],
          "scattergl": [
           {
            "marker": {
             "colorbar": {
              "outlinewidth": 0,
              "ticks": ""
             }
            },
            "type": "scattergl"
           }
          ],
          "scattermapbox": [
           {
            "marker": {
             "colorbar": {
              "outlinewidth": 0,
              "ticks": ""
             }
            },
            "type": "scattermapbox"
           }
          ],
          "scatterpolar": [
           {
            "marker": {
             "colorbar": {
              "outlinewidth": 0,
              "ticks": ""
             }
            },
            "type": "scatterpolar"
           }
          ],
          "scatterpolargl": [
           {
            "marker": {
             "colorbar": {
              "outlinewidth": 0,
              "ticks": ""
             }
            },
            "type": "scatterpolargl"
           }
          ],
          "scatterternary": [
           {
            "marker": {
             "colorbar": {
              "outlinewidth": 0,
              "ticks": ""
             }
            },
            "type": "scatterternary"
           }
          ],
          "surface": [
           {
            "colorbar": {
             "outlinewidth": 0,
             "ticks": ""
            },
            "colorscale": [
             [
              0,
              "#0d0887"
             ],
             [
              0.1111111111111111,
              "#46039f"
             ],
             [
              0.2222222222222222,
              "#7201a8"
             ],
             [
              0.3333333333333333,
              "#9c179e"
             ],
             [
              0.4444444444444444,
              "#bd3786"
             ],
             [
              0.5555555555555556,
              "#d8576b"
             ],
             [
              0.6666666666666666,
              "#ed7953"
             ],
             [
              0.7777777777777778,
              "#fb9f3a"
             ],
             [
              0.8888888888888888,
              "#fdca26"
             ],
             [
              1,
              "#f0f921"
             ]
            ],
            "type": "surface"
           }
          ],
          "table": [
           {
            "cells": {
             "fill": {
              "color": "#EBF0F8"
             },
             "line": {
              "color": "white"
             }
            },
            "header": {
             "fill": {
              "color": "#C8D4E3"
             },
             "line": {
              "color": "white"
             }
            },
            "type": "table"
           }
          ]
         },
         "layout": {
          "annotationdefaults": {
           "arrowcolor": "#2a3f5f",
           "arrowhead": 0,
           "arrowwidth": 1
          },
          "autotypenumbers": "strict",
          "coloraxis": {
           "colorbar": {
            "outlinewidth": 0,
            "ticks": ""
           }
          },
          "colorscale": {
           "diverging": [
            [
             0,
             "#8e0152"
            ],
            [
             0.1,
             "#c51b7d"
            ],
            [
             0.2,
             "#de77ae"
            ],
            [
             0.3,
             "#f1b6da"
            ],
            [
             0.4,
             "#fde0ef"
            ],
            [
             0.5,
             "#f7f7f7"
            ],
            [
             0.6,
             "#e6f5d0"
            ],
            [
             0.7,
             "#b8e186"
            ],
            [
             0.8,
             "#7fbc41"
            ],
            [
             0.9,
             "#4d9221"
            ],
            [
             1,
             "#276419"
            ]
           ],
           "sequential": [
            [
             0,
             "#0d0887"
            ],
            [
             0.1111111111111111,
             "#46039f"
            ],
            [
             0.2222222222222222,
             "#7201a8"
            ],
            [
             0.3333333333333333,
             "#9c179e"
            ],
            [
             0.4444444444444444,
             "#bd3786"
            ],
            [
             0.5555555555555556,
             "#d8576b"
            ],
            [
             0.6666666666666666,
             "#ed7953"
            ],
            [
             0.7777777777777778,
             "#fb9f3a"
            ],
            [
             0.8888888888888888,
             "#fdca26"
            ],
            [
             1,
             "#f0f921"
            ]
           ],
           "sequentialminus": [
            [
             0,
             "#0d0887"
            ],
            [
             0.1111111111111111,
             "#46039f"
            ],
            [
             0.2222222222222222,
             "#7201a8"
            ],
            [
             0.3333333333333333,
             "#9c179e"
            ],
            [
             0.4444444444444444,
             "#bd3786"
            ],
            [
             0.5555555555555556,
             "#d8576b"
            ],
            [
             0.6666666666666666,
             "#ed7953"
            ],
            [
             0.7777777777777778,
             "#fb9f3a"
            ],
            [
             0.8888888888888888,
             "#fdca26"
            ],
            [
             1,
             "#f0f921"
            ]
           ]
          },
          "colorway": [
           "#636efa",
           "#EF553B",
           "#00cc96",
           "#ab63fa",
           "#FFA15A",
           "#19d3f3",
           "#FF6692",
           "#B6E880",
           "#FF97FF",
           "#FECB52"
          ],
          "font": {
           "color": "#2a3f5f"
          },
          "geo": {
           "bgcolor": "white",
           "lakecolor": "white",
           "landcolor": "#E5ECF6",
           "showlakes": true,
           "showland": true,
           "subunitcolor": "white"
          },
          "hoverlabel": {
           "align": "left"
          },
          "hovermode": "closest",
          "mapbox": {
           "style": "light"
          },
          "paper_bgcolor": "white",
          "plot_bgcolor": "#E5ECF6",
          "polar": {
           "angularaxis": {
            "gridcolor": "white",
            "linecolor": "white",
            "ticks": ""
           },
           "bgcolor": "#E5ECF6",
           "radialaxis": {
            "gridcolor": "white",
            "linecolor": "white",
            "ticks": ""
           }
          },
          "scene": {
           "xaxis": {
            "backgroundcolor": "#E5ECF6",
            "gridcolor": "white",
            "gridwidth": 2,
            "linecolor": "white",
            "showbackground": true,
            "ticks": "",
            "zerolinecolor": "white"
           },
           "yaxis": {
            "backgroundcolor": "#E5ECF6",
            "gridcolor": "white",
            "gridwidth": 2,
            "linecolor": "white",
            "showbackground": true,
            "ticks": "",
            "zerolinecolor": "white"
           },
           "zaxis": {
            "backgroundcolor": "#E5ECF6",
            "gridcolor": "white",
            "gridwidth": 2,
            "linecolor": "white",
            "showbackground": true,
            "ticks": "",
            "zerolinecolor": "white"
           }
          },
          "shapedefaults": {
           "line": {
            "color": "#2a3f5f"
           }
          },
          "ternary": {
           "aaxis": {
            "gridcolor": "white",
            "linecolor": "white",
            "ticks": ""
           },
           "baxis": {
            "gridcolor": "white",
            "linecolor": "white",
            "ticks": ""
           },
           "bgcolor": "#E5ECF6",
           "caxis": {
            "gridcolor": "white",
            "linecolor": "white",
            "ticks": ""
           }
          },
          "title": {
           "x": 0.05
          },
          "xaxis": {
           "automargin": true,
           "gridcolor": "white",
           "linecolor": "white",
           "ticks": "",
           "title": {
            "standoff": 15
           },
           "zerolinecolor": "white",
           "zerolinewidth": 2
          },
          "yaxis": {
           "automargin": true,
           "gridcolor": "white",
           "linecolor": "white",
           "ticks": "",
           "title": {
            "standoff": 15
           },
           "zerolinecolor": "white",
           "zerolinewidth": 2
          }
         }
        }
       }
      }
     },
     "metadata": {},
     "output_type": "display_data"
    }
   ],
   "source": [
    "# визуализация воронки продаж\n",
    "from plotly import graph_objects as go\n",
    "\n",
    "fig = go.Figure(go.Funnel(\n",
    "    y = df_funnel['event_name'],\n",
    "    x = df_funnel['event_user_id_unique'],\n",
    "    textposition = \"inside\",\n",
    "    textinfo = \"value+percent initial\",\n",
    "    opacity = 0.65, marker = {\"color\": [\"deepskyblue\", \"lightsalmon\", \"tan\", \"teal\", \"silver\"],\n",
    "    \"line\": {\"width\": [4, 2, 2, 3, 1, 1], \"color\": [\"wheat\", \"wheat\", \"blue\", \"wheat\", \"wheat\"]}},\n",
    "    connector = {\"line\": {\"color\": \"royalblue\", \"dash\": \"dot\", \"width\": 3}})\n",
    "    )\n",
    "\n",
    "fig.show()"
   ]
  },
  {
   "cell_type": "markdown",
   "metadata": {},
   "source": [
    "##### <u>**Вывод:**</u>\n",
    "\n",
    "Из визуализации следует, что самая большая потеря пользователей происходит на этапе перехода с 'MainScreenAppear' к 'OffersScreenAppear'  \n",
    "(чуть меньше 40%)\n",
    "\n",
    "На дальнейших шагах воронки потеря пользвателей происхот намного плавнее\n",
    "\n",
    "От первого события до оплаты доходит чуть меньше половины пользователей."
   ]
  },
  {
   "cell_type": "markdown",
   "metadata": {},
   "source": [
    "Шаг 5. Анализ результатов эксперимента\n",
    "- Сколько пользователей в каждой группе?\n",
    "- Считаем долю пользователей, совершивших каждое из событий.\n",
    "- Проверяем гипотезу о наличие значимых отличий по результатам теста."
   ]
  },
  {
   "cell_type": "code",
   "execution_count": 20,
   "metadata": {},
   "outputs": [
    {
     "data": {
      "text/html": [
       "<div>\n",
       "<style scoped>\n",
       "    .dataframe tbody tr th:only-of-type {\n",
       "        vertical-align: middle;\n",
       "    }\n",
       "\n",
       "    .dataframe tbody tr th {\n",
       "        vertical-align: top;\n",
       "    }\n",
       "\n",
       "    .dataframe thead th {\n",
       "        text-align: right;\n",
       "    }\n",
       "</style>\n",
       "<table border=\"1\" class=\"dataframe\">\n",
       "  <thead>\n",
       "    <tr style=\"text-align: right;\">\n",
       "      <th>group_id</th>\n",
       "      <th>event_name</th>\n",
       "      <th>247</th>\n",
       "      <th>248</th>\n",
       "    </tr>\n",
       "  </thead>\n",
       "  <tbody>\n",
       "    <tr>\n",
       "      <th>1</th>\n",
       "      <td>MainScreenAppear</td>\n",
       "      <td>2474</td>\n",
       "      <td>2491</td>\n",
       "    </tr>\n",
       "    <tr>\n",
       "      <th>2</th>\n",
       "      <td>OffersScreenAppear</td>\n",
       "      <td>1518</td>\n",
       "      <td>1529</td>\n",
       "    </tr>\n",
       "    <tr>\n",
       "      <th>0</th>\n",
       "      <td>CartScreenAppear</td>\n",
       "      <td>1236</td>\n",
       "      <td>1228</td>\n",
       "    </tr>\n",
       "    <tr>\n",
       "      <th>3</th>\n",
       "      <td>PaymentScreenSuccessful</td>\n",
       "      <td>1156</td>\n",
       "      <td>1179</td>\n",
       "    </tr>\n",
       "  </tbody>\n",
       "</table>\n",
       "</div>"
      ],
      "text/plain": [
       "group_id               event_name   247   248\n",
       "1                MainScreenAppear  2474  2491\n",
       "2              OffersScreenAppear  1518  1529\n",
       "0                CartScreenAppear  1236  1228\n",
       "3         PaymentScreenSuccessful  1156  1179"
      ]
     },
     "execution_count": 20,
     "metadata": {},
     "output_type": "execute_result"
    }
   ],
   "source": [
    "# сколько пользователей в каждой группе\n",
    "\n",
    "df.groupby('group_id').user_id.nunique().reset_index()\n",
    "\n",
    "df.pivot_table(index='event_name',\n",
    "               columns='group_id',\n",
    "               values='user_id',\n",
    "               aggfunc='nunique')\\\n",
    "               .reset_index()\\\n",
    "               .sort_values(by=247, ascending=False)"
   ]
  },
  {
   "cell_type": "code",
   "execution_count": 21,
   "metadata": {},
   "outputs": [
    {
     "data": {
      "text/plain": [
       "np.int64(2510)"
      ]
     },
     "execution_count": 21,
     "metadata": {},
     "output_type": "execute_result"
    }
   ],
   "source": [
    "# df_count_users\n",
    "df_count_users = df.groupby('group_id')\\\n",
    "                   .user_id.nunique()\n",
    "df_count_users.loc[247]"
   ]
  },
  {
   "cell_type": "code",
   "execution_count": 22,
   "metadata": {},
   "outputs": [
    {
     "data": {
      "text/html": [
       "<div>\n",
       "<style scoped>\n",
       "    .dataframe tbody tr th:only-of-type {\n",
       "        vertical-align: middle;\n",
       "    }\n",
       "\n",
       "    .dataframe tbody tr th {\n",
       "        vertical-align: top;\n",
       "    }\n",
       "\n",
       "    .dataframe thead th {\n",
       "        text-align: right;\n",
       "    }\n",
       "</style>\n",
       "<table border=\"1\" class=\"dataframe\">\n",
       "  <thead>\n",
       "    <tr style=\"text-align: right;\">\n",
       "      <th></th>\n",
       "      <th>event_name</th>\n",
       "      <th>group_247</th>\n",
       "      <th>group_248</th>\n",
       "    </tr>\n",
       "  </thead>\n",
       "  <tbody>\n",
       "    <tr>\n",
       "      <th>1</th>\n",
       "      <td>MainScreenAppear</td>\n",
       "      <td>2474</td>\n",
       "      <td>2491</td>\n",
       "    </tr>\n",
       "    <tr>\n",
       "      <th>2</th>\n",
       "      <td>OffersScreenAppear</td>\n",
       "      <td>1518</td>\n",
       "      <td>1529</td>\n",
       "    </tr>\n",
       "    <tr>\n",
       "      <th>0</th>\n",
       "      <td>CartScreenAppear</td>\n",
       "      <td>1236</td>\n",
       "      <td>1228</td>\n",
       "    </tr>\n",
       "    <tr>\n",
       "      <th>3</th>\n",
       "      <td>PaymentScreenSuccessful</td>\n",
       "      <td>1156</td>\n",
       "      <td>1179</td>\n",
       "    </tr>\n",
       "  </tbody>\n",
       "</table>\n",
       "</div>"
      ],
      "text/plain": [
       "                event_name  group_247  group_248\n",
       "1         MainScreenAppear       2474       2491\n",
       "2       OffersScreenAppear       1518       1529\n",
       "0         CartScreenAppear       1236       1228\n",
       "3  PaymentScreenSuccessful       1156       1179"
      ]
     },
     "execution_count": 22,
     "metadata": {},
     "output_type": "execute_result"
    }
   ],
   "source": [
    "df_pivot_event_group = df.pivot_table(index='event_name',\n",
    "                                      columns='group_id',\n",
    "                                      values='user_id',\n",
    "                                      aggfunc='nunique')\\\n",
    "                         .reset_index()\\\n",
    "                         .sort_values(by=247, ascending=False)\n",
    "df_pivot_event_group.columns = ['event_name', 'group_247', 'group_248']\n",
    "df_pivot_event_group"
   ]
  },
  {
   "cell_type": "code",
   "execution_count": 23,
   "metadata": {},
   "outputs": [
    {
     "data": {
      "text/html": [
       "<div>\n",
       "<style scoped>\n",
       "    .dataframe tbody tr th:only-of-type {\n",
       "        vertical-align: middle;\n",
       "    }\n",
       "\n",
       "    .dataframe tbody tr th {\n",
       "        vertical-align: top;\n",
       "    }\n",
       "\n",
       "    .dataframe thead th {\n",
       "        text-align: right;\n",
       "    }\n",
       "</style>\n",
       "<table border=\"1\" class=\"dataframe\">\n",
       "  <thead>\n",
       "    <tr style=\"text-align: right;\">\n",
       "      <th></th>\n",
       "      <th>event_name</th>\n",
       "      <th>group_247</th>\n",
       "      <th>group_248</th>\n",
       "      <th>part_users_247</th>\n",
       "      <th>part_users_248</th>\n",
       "    </tr>\n",
       "  </thead>\n",
       "  <tbody>\n",
       "    <tr>\n",
       "      <th>1</th>\n",
       "      <td>MainScreenAppear</td>\n",
       "      <td>2474</td>\n",
       "      <td>2491</td>\n",
       "      <td>0.99</td>\n",
       "      <td>0.98</td>\n",
       "    </tr>\n",
       "    <tr>\n",
       "      <th>2</th>\n",
       "      <td>OffersScreenAppear</td>\n",
       "      <td>1518</td>\n",
       "      <td>1529</td>\n",
       "      <td>0.60</td>\n",
       "      <td>0.60</td>\n",
       "    </tr>\n",
       "    <tr>\n",
       "      <th>0</th>\n",
       "      <td>CartScreenAppear</td>\n",
       "      <td>1236</td>\n",
       "      <td>1228</td>\n",
       "      <td>0.49</td>\n",
       "      <td>0.48</td>\n",
       "    </tr>\n",
       "    <tr>\n",
       "      <th>3</th>\n",
       "      <td>PaymentScreenSuccessful</td>\n",
       "      <td>1156</td>\n",
       "      <td>1179</td>\n",
       "      <td>0.46</td>\n",
       "      <td>0.47</td>\n",
       "    </tr>\n",
       "  </tbody>\n",
       "</table>\n",
       "</div>"
      ],
      "text/plain": [
       "                event_name  group_247  group_248  part_users_247  \\\n",
       "1         MainScreenAppear       2474       2491            0.99   \n",
       "2       OffersScreenAppear       1518       1529            0.60   \n",
       "0         CartScreenAppear       1236       1228            0.49   \n",
       "3  PaymentScreenSuccessful       1156       1179            0.46   \n",
       "\n",
       "   part_users_248  \n",
       "1            0.98  \n",
       "2            0.60  \n",
       "0            0.48  \n",
       "3            0.47  "
      ]
     },
     "execution_count": 23,
     "metadata": {},
     "output_type": "execute_result"
    }
   ],
   "source": [
    "# рассчитаем доли\n",
    "for group_name in df_count_users.index:\n",
    "    for col_name in ['group_247', 'group_248']:\n",
    "        if col_name.find(str(group_name))>-1:\n",
    "            df_pivot_event_group['part_users_'+str(group_name)] = np.round((df_pivot_event_group[col_name]\n",
    "                                                                   / df_count_users.loc[group_name]),2)\n",
    "df_pivot_event_group"
   ]
  },
  {
   "cell_type": "code",
   "execution_count": 24,
   "metadata": {},
   "outputs": [
    {
     "data": {
      "text/html": [
       "<div>\n",
       "<style scoped>\n",
       "    .dataframe tbody tr th:only-of-type {\n",
       "        vertical-align: middle;\n",
       "    }\n",
       "\n",
       "    .dataframe tbody tr th {\n",
       "        vertical-align: top;\n",
       "    }\n",
       "\n",
       "    .dataframe thead th {\n",
       "        text-align: right;\n",
       "    }\n",
       "</style>\n",
       "<table border=\"1\" class=\"dataframe\">\n",
       "  <thead>\n",
       "    <tr style=\"text-align: right;\">\n",
       "      <th></th>\n",
       "      <th>event_name</th>\n",
       "      <th>group_247</th>\n",
       "      <th>group_248</th>\n",
       "      <th>part_users_247</th>\n",
       "      <th>part_users_248</th>\n",
       "    </tr>\n",
       "    <tr>\n",
       "      <th>event_name</th>\n",
       "      <th></th>\n",
       "      <th></th>\n",
       "      <th></th>\n",
       "      <th></th>\n",
       "      <th></th>\n",
       "    </tr>\n",
       "  </thead>\n",
       "  <tbody>\n",
       "    <tr>\n",
       "      <th>MainScreenAppear</th>\n",
       "      <td>MainScreenAppear</td>\n",
       "      <td>2474</td>\n",
       "      <td>2491</td>\n",
       "      <td>0.99</td>\n",
       "      <td>0.98</td>\n",
       "    </tr>\n",
       "    <tr>\n",
       "      <th>OffersScreenAppear</th>\n",
       "      <td>OffersScreenAppear</td>\n",
       "      <td>1518</td>\n",
       "      <td>1529</td>\n",
       "      <td>0.60</td>\n",
       "      <td>0.60</td>\n",
       "    </tr>\n",
       "    <tr>\n",
       "      <th>CartScreenAppear</th>\n",
       "      <td>CartScreenAppear</td>\n",
       "      <td>1236</td>\n",
       "      <td>1228</td>\n",
       "      <td>0.49</td>\n",
       "      <td>0.48</td>\n",
       "    </tr>\n",
       "    <tr>\n",
       "      <th>PaymentScreenSuccessful</th>\n",
       "      <td>PaymentScreenSuccessful</td>\n",
       "      <td>1156</td>\n",
       "      <td>1179</td>\n",
       "      <td>0.46</td>\n",
       "      <td>0.47</td>\n",
       "    </tr>\n",
       "  </tbody>\n",
       "</table>\n",
       "</div>"
      ],
      "text/plain": [
       "                                      event_name  group_247  group_248  \\\n",
       "event_name                                                               \n",
       "MainScreenAppear                MainScreenAppear       2474       2491   \n",
       "OffersScreenAppear            OffersScreenAppear       1518       1529   \n",
       "CartScreenAppear                CartScreenAppear       1236       1228   \n",
       "PaymentScreenSuccessful  PaymentScreenSuccessful       1156       1179   \n",
       "\n",
       "                         part_users_247  part_users_248  \n",
       "event_name                                               \n",
       "MainScreenAppear                   0.99            0.98  \n",
       "OffersScreenAppear                 0.60            0.60  \n",
       "CartScreenAppear                   0.49            0.48  \n",
       "PaymentScreenSuccessful            0.46            0.47  "
      ]
     },
     "execution_count": 24,
     "metadata": {},
     "output_type": "execute_result"
    }
   ],
   "source": [
    "df_pivot_event_group.set_index(df_pivot_event_group.event_name,\n",
    "                               inplace=True)\n",
    "df_pivot_event_group"
   ]
  },
  {
   "cell_type": "code",
   "execution_count": 25,
   "metadata": {},
   "outputs": [],
   "source": [
    "# проверим гипотезу о наличие значимых отличий по результатам теста.\n",
    "# для биноминальных распределений -- распределения Бернулли\n",
    "\n",
    "def test_z_criterion(event_name, alpha):\n",
    "    import scipy.stats as st\n",
    "    import math\n",
    "\n",
    "    n1 = df_count_users.loc[247]\n",
    "    n2 = df_count_users.loc[248]\n",
    "\n",
    "    m1 = df_pivot_event_group.loc[event_name, 'group_247']\n",
    "    m2 = df_pivot_event_group.loc[event_name, 'group_248']\n",
    "\n",
    "    z_value = (m1/n1 - m2/n2) / math.sqrt(((m1+m2)/(n1+n2))*(1-((m1+m2)/(n1+n2)))*(1/n1+1/n2))\n",
    "    distr = st.norm(0, 1)\n",
    "    p_value = (1 - distr.cdf(abs(z_value))) * 2 #1-F(t)\n",
    "    print('Результаты проверки гипотезы H_0 по z-критерию:')\n",
    "    print('Уровень значимости alpha={:.2f}'.format(alpha))\n",
    "    print('P-value: {:.2f}'.format(p_value))\n",
    "    if p_value < alpha:\n",
    "        print(f\"\"\"Отвергаем нулевую гипотезу: разница в долях\n",
    "по событию <<{event_name}>> статистически значима.\"\"\")\n",
    "    else: print(f\"\"\"Не получилось отвергнуть нулевую гипотезу: разница в долях по\n",
    "событию <<{event_name}>> статистически незначима.\"\"\")\n",
    "    print('------------------------------------------------------------')"
   ]
  },
  {
   "cell_type": "code",
   "execution_count": 26,
   "metadata": {},
   "outputs": [
    {
     "name": "stdout",
     "output_type": "stream",
     "text": [
      "Результаты проверки гипотезы H_0 по z-критерию:\n",
      "Уровень значимости alpha=0.05\n",
      "P-value: 0.52\n",
      "Не получилось отвергнуть нулевую гипотезу: разница в долях по\n",
      "событию <<MainScreenAppear>> статистически незначима.\n",
      "------------------------------------------------------------\n",
      "Результаты проверки гипотезы H_0 по z-критерию:\n",
      "Уровень значимости alpha=0.05\n",
      "P-value: 0.93\n",
      "Не получилось отвергнуть нулевую гипотезу: разница в долях по\n",
      "событию <<OffersScreenAppear>> статистически незначима.\n",
      "------------------------------------------------------------\n",
      "Результаты проверки гипотезы H_0 по z-критерию:\n",
      "Уровень значимости alpha=0.05\n",
      "P-value: 0.59\n",
      "Не получилось отвергнуть нулевую гипотезу: разница в долях по\n",
      "событию <<CartScreenAppear>> статистически незначима.\n",
      "------------------------------------------------------------\n",
      "Результаты проверки гипотезы H_0 по z-критерию:\n",
      "Уровень значимости alpha=0.05\n",
      "P-value: 0.73\n",
      "Не получилось отвергнуть нулевую гипотезу: разница в долях по\n",
      "событию <<PaymentScreenSuccessful>> статистически незначима.\n",
      "------------------------------------------------------------\n"
     ]
    }
   ],
   "source": [
    "alpha = 0.05\n",
    "\n",
    "for col in df_pivot_event_group['event_name'].unique():\n",
    "    test_z_criterion(col, alpha)"
   ]
  },
  {
   "cell_type": "markdown",
   "metadata": {},
   "source": [
    "##### <u>**Вывод:**</u>\n",
    "\n",
    "Изначально тестирование прошло некорректно, нарушено деление трафика (по неизвестным причинам)\n",
    "\n",
    "Отвергнуть нулевую гипотезу не удалось, разница между двумя группами отсутствует"
   ]
  },
  {
   "cell_type": "markdown",
   "metadata": {},
   "source": [
    "Шаг 6. С помощью Yandex DataLens создаем дашборд, отвечащий на следующие вопросы:\n",
    "- сколько уникальных клиентов в группах 247 и 248;\n",
    "- сколько уникальных клиентов совершили события по каждой группе;\n",
    "- по каждой группе строим распределение количества событий по времени."
   ]
  },
  {
   "cell_type": "markdown",
   "metadata": {},
   "source": [
    "##### <u>**Результат:**</u>\n",
    "\n",
    "[Ссылка](https://datalens.yandex/u80bmsnbfp6ih) на дашборд "
   ]
  }
 ],
 "metadata": {
  "colab": {
   "provenance": []
  },
  "kernelspec": {
   "display_name": "Python 3",
   "language": "python",
   "name": "python3"
  },
  "language_info": {
   "codemirror_mode": {
    "name": "ipython",
    "version": 3
   },
   "file_extension": ".py",
   "mimetype": "text/x-python",
   "name": "python",
   "nbconvert_exporter": "python",
   "pygments_lexer": "ipython3",
   "version": "3.12.4"
  },
  "toc": {
   "base_numbering": 1,
   "nav_menu": {},
   "number_sections": true,
   "sideBar": true,
   "skip_h1_title": false,
   "title_cell": "Table of Contents",
   "title_sidebar": "Contents",
   "toc_cell": false,
   "toc_position": {},
   "toc_section_display": true,
   "toc_window_display": false
  }
 },
 "nbformat": 4,
 "nbformat_minor": 0
}
